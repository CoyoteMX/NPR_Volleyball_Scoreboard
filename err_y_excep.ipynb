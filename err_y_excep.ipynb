{
  "nbformat": 4,
  "nbformat_minor": 0,
  "metadata": {
    "colab": {
      "name": "err_y_excep.ipynb",
      "provenance": [],
      "authorship_tag": "ABX9TyOJTB9+vVJ2oX5tcDbBSdsS",
      "include_colab_link": true
    },
    "kernelspec": {
      "name": "python3",
      "display_name": "Python 3"
    },
    "language_info": {
      "name": "python"
    }
  },
  "cells": [
    {
      "cell_type": "markdown",
      "metadata": {
        "id": "view-in-github",
        "colab_type": "text"
      },
      "source": [
        "<a href=\"https://colab.research.google.com/github/CoyoteMX/NPR_Volleyball_Scoreboard/blob/master/err_y_excep.ipynb\" target=\"_parent\"><img src=\"https://colab.research.google.com/assets/colab-badge.svg\" alt=\"Open In Colab\"/></a>"
      ]
    },
    {
      "cell_type": "code",
      "execution_count": null,
      "metadata": {
        "id": "OQDJ4Mgq1JfW"
      },
      "outputs": [],
      "source": [
        "def excep (a):\n",
        "  if a == 1: \n",
        "    raise Exception(\"No permitido a = 1\")\n",
        "  assert type(a) == int, 'a es una int'\n",
        "  return"
      ]
    },
    {
      "cell_type": "code",
      "source": [
        "excep(10)"
      ],
      "metadata": {
        "id": "3eKuk7YC8AHq"
      },
      "execution_count": null,
      "outputs": []
    },
    {
      "cell_type": "code",
      "source": [
        "def divi(a,b):\n",
        "  try:\n",
        "    resultado = a // b\n",
        "    return resultado\n",
        "  except ZeroDivisionError:\n",
        "    print(\"No se puede dividir entre 0\")\n",
        "  except TypeError:\n",
        "    print(\"No se puede dividir entre str\")"
      ],
      "metadata": {
        "id": "b3E6VqUm8QnU"
      },
      "execution_count": null,
      "outputs": []
    },
    {
      "cell_type": "code",
      "source": [
        "divi(3,1)"
      ],
      "metadata": {
        "colab": {
          "base_uri": "https://localhost:8080/"
        },
        "id": "oULp6hvK96P3",
        "outputId": "d12b0078-4b96-4c43-a213-d9a4a98ad40f"
      },
      "execution_count": null,
      "outputs": [
        {
          "output_type": "execute_result",
          "data": {
            "text/plain": [
              "3"
            ]
          },
          "metadata": {},
          "execution_count": 28
        }
      ]
    },
    {
      "cell_type": "code",
      "source": [
        "divi(1,0)"
      ],
      "metadata": {
        "colab": {
          "base_uri": "https://localhost:8080/"
        },
        "id": "UnnbfO2v98Lq",
        "outputId": "89d55181-7875-4aed-9077-577e2d352b04"
      },
      "execution_count": null,
      "outputs": [
        {
          "output_type": "stream",
          "name": "stdout",
          "text": [
            "No se puede dividir entre 0\n"
          ]
        }
      ]
    },
    {
      "cell_type": "code",
      "source": [
        ""
      ],
      "metadata": {
        "id": "Pfuandxj-CDf"
      },
      "execution_count": null,
      "outputs": []
    }
  ]
}